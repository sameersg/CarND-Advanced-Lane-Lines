{
 "cells": [
  {
   "cell_type": "code",
   "execution_count": 1,
   "metadata": {},
   "outputs": [],
   "source": [
    "import os\n",
    "import numpy as np\n",
    "import cv2\n",
    "import glob\n",
    "import matplotlib\n",
    "matplotlib.use('qt5agg')\n",
    "import matplotlib.pyplot as plt\n",
    "import pickle\n",
    "%matplotlib inline\n",
    "\n",
    "out_dir='output_images/stage0/'\n",
    "# Make a list of calibration images\n",
    "images = glob.glob('camera_cal/calibration*.jpg')"
   ]
  },
  {
   "cell_type": "code",
   "execution_count": null,
   "metadata": {},
   "outputs": [
    {
     "name": "stdout",
     "output_type": "stream",
     "text": [
      "camera_cal/calibration15.jpg\n",
      "camera_cal/calibration4.jpg\n",
      "camera_cal/calibration5.jpg\n"
     ]
    }
   ],
   "source": [
    "# Arrays to store object points and image points from all the images.\n",
    "objpoints = [] # 3d points in real world space\n",
    "imgpoints = [] # 2d points in image plane.\n",
    "\n",
    "for ny in [5,6]:\n",
    "    for nx in [6,7,8,9]:\n",
    "\n",
    "        # prepare object points, like (0,0,0), (1,0,0), (2,0,0) ....,(6,5,0)\n",
    "        objp = np.zeros((ny*nx,3), np.float32)\n",
    "        objp[:,:2] = np.mgrid[0:nx, 0:ny].T.reshape(-1,2)\n",
    "\n",
    "\n",
    "        # Step through the list and search for chessboard corners\n",
    "        for idx, fname in enumerate(images):\n",
    "            img = cv2.imread(fname)\n",
    "            gray = cv2.cvtColor(img, cv2.COLOR_BGR2GRAY)\n",
    "\n",
    "            # Find the chessboard corners\n",
    "            ret, corners = cv2.findChessboardCorners(gray, (nx,ny), None)\n",
    "\n",
    "            # If found, add object points, image points\n",
    "            if ret == True:\n",
    "                objpoints.append(objp)\n",
    "                imgpoints.append(corners)\n",
    "\n",
    "\n",
    "                # Draw and display the corners\n",
    "                cv2.drawChessboardCorners(img, (nx,ny), corners, ret)\n",
    "                image_name=os.path.split(fname)[1]\n",
    "                write_name = out_dir+'corners_found_ny'+str(ny)+'_nx'+str(nx)+'_'+image_name\n",
    "                cv2.imwrite(write_name, img)\n",
    "                print(fname)\n",
    "                cv2.imshow('img', img)\n",
    "                cv2.waitKey(500)\n",
    "    cv2.destroyAllWindows()"
   ]
  },
  {
   "cell_type": "code",
   "execution_count": null,
   "metadata": {},
   "outputs": [],
   "source": [
    "# Test undistortion on an image\n",
    "img = cv2.imread('camera_cal/calibration1.jpg')\n",
    "img_size = (img.shape[1], img.shape[0])\n",
    "\n",
    "# Do camera calibration given object points and image points\n",
    "ret, mtx, dist, rvecs, tvecs = cv2.calibrateCamera(objpoints, imgpoints, img_size,None,None)\n",
    "dst = cv2.undistort(img, mtx, dist, None, mtx)\n",
    "\n",
    "f, (ax1, ax2) = plt.subplots(1, 2, figsize=(20,10))\n",
    "ax1.imshow(img)\n",
    "ax1.set_title('Original Image', fontsize=30)\n",
    "ax2.imshow(dst)\n",
    "ax2.set_title('Undistorted Image', fontsize=30)"
   ]
  },
  {
   "cell_type": "code",
   "execution_count": 4,
   "metadata": {
    "collapsed": true
   },
   "outputs": [],
   "source": [
    "# Save the camera calibration result for later use (we won't worry about rvecs / tvecs)\n",
    "dist_pickle = {}\n",
    "dist_pickle[\"mtx\"] = mtx\n",
    "dist_pickle[\"dist\"] = dist\n",
    "pickle.dump( dist_pickle, open( \"camera_dist_pickle.p\", \"wb\" ) )"
   ]
  },
  {
   "cell_type": "code",
   "execution_count": 5,
   "metadata": {},
   "outputs": [
    {
     "name": "stdout",
     "output_type": "stream",
     "text": [
      "output_images/stage0/undistorted_calibration7.jpg\n",
      "output_images/stage0/undistorted_calibration6.jpg\n",
      "output_images/stage0/undistorted_calibration17.jpg\n",
      "output_images/stage0/undistorted_calibration8.jpg\n",
      "output_images/stage0/undistorted_calibration20.jpg\n",
      "output_images/stage0/undistorted_calibration14.jpg\n",
      "output_images/stage0/undistorted_calibration18.jpg\n",
      "output_images/stage0/undistorted_calibration3.jpg\n",
      "output_images/stage0/undistorted_calibration15.jpg\n",
      "output_images/stage0/undistorted_calibration2.jpg\n",
      "output_images/stage0/undistorted_calibration9.jpg\n",
      "output_images/stage0/undistorted_calibration1.jpg\n",
      "output_images/stage0/undistorted_calibration19.jpg\n",
      "output_images/stage0/undistorted_calibration12.jpg\n",
      "output_images/stage0/undistorted_calibration13.jpg\n",
      "output_images/stage0/undistorted_calibration16.jpg\n",
      "output_images/stage0/undistorted_calibration11.jpg\n",
      "output_images/stage0/undistorted_calibration4.jpg\n",
      "output_images/stage0/undistorted_calibration10.jpg\n",
      "output_images/stage0/undistorted_calibration5.jpg\n"
     ]
    }
   ],
   "source": [
    "# Visualize undistortion\n",
    "# Step through the list and search for chessboard corners\n",
    "# load pickled distortion matrix\n",
    "\n",
    "with open('camera_dist_pickle.p', mode='rb') as f:\n",
    "    dist_pickle = pickle.load(f)\n",
    "    mtx = dist_pickle[\"mtx\"]\n",
    "    dist = dist_pickle[\"dist\"]\n",
    "# Visualize undistortion on test images\n",
    "\n",
    "for idx, fname in enumerate(images):\n",
    "    img = cv2.imread(fname)\n",
    "    dst = cv2.undistort(img, mtx, dist, None, mtx)\n",
    "    image_name=os.path.split(fname)[1]\n",
    "    write_name = out_dir+'undistorted_'+image_name\n",
    "    cv2.imwrite(write_name,dst)\n",
    "    print(write_name)\n",
    "    cv2.imshow('dst', dst)\n",
    "    cv2.waitKey(500)\n",
    "cv2.destroyAllWindows()"
   ]
  }
 ],
 "metadata": {
  "anaconda-cloud": {},
  "kernelspec": {
   "display_name": "Python 3",
   "language": "python",
   "name": "python3"
  },
  "language_info": {
   "codemirror_mode": {
    "name": "ipython",
    "version": 3
   },
   "file_extension": ".py",
   "mimetype": "text/x-python",
   "name": "python",
   "nbconvert_exporter": "python",
   "pygments_lexer": "ipython3",
   "version": "3.5.2"
  },
  "widgets": {
   "state": {},
   "version": "1.1.2"
  }
 },
 "nbformat": 4,
 "nbformat_minor": 1
}
